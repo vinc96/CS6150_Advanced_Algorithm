{
 "cells": [
  {
   "cell_type": "code",
   "execution_count": 1,
   "metadata": {
    "ExecuteTime": {
     "end_time": "2018-12-04T07:03:32.012680Z",
     "start_time": "2018-12-04T07:03:31.991698Z"
    }
   },
   "outputs": [],
   "source": [
    "import numpy as np\n",
    "data = np.load(\"..\\data\\Caltech101_small.npy\")"
   ]
  },
  {
   "cell_type": "code",
   "execution_count": 109,
   "metadata": {
    "ExecuteTime": {
     "end_time": "2018-12-04T10:41:42.437845Z",
     "start_time": "2018-12-04T10:41:42.432846Z"
    }
   },
   "outputs": [
    {
     "data": {
      "text/plain": [
       "(1, 3)"
      ]
     },
     "execution_count": 109,
     "metadata": {},
     "output_type": "execute_result"
    }
   ],
   "source": [
    "a = np.array([[1,2,3],[4,5,6]])\n",
    "a[[0]].shape"
   ]
  },
  {
   "cell_type": "code",
   "execution_count": 99,
   "metadata": {
    "ExecuteTime": {
     "end_time": "2018-12-04T10:05:30.638575Z",
     "start_time": "2018-12-04T10:05:30.632577Z"
    },
    "scrolled": true
   },
   "outputs": [
    {
     "data": {
      "text/plain": [
       "(array([ 3, 15], dtype=int64),)"
      ]
     },
     "execution_count": 99,
     "metadata": {},
     "output_type": "execute_result"
    }
   ],
   "source": [
    "vals = np.array([[0, 0],\n",
    "                 [1, 0],\n",
    "                 [2, 0],\n",
    "                 [0, 1],\n",
    "                 [1, 1],\n",
    "                 [2, 1],\n",
    "                 [0, 2],\n",
    "                 [1, 2],\n",
    "                 [2, 2],\n",
    "                 [0, 3],\n",
    "                 [1, 3],\n",
    "                 [2, 3],\n",
    "                 [0, 0],\n",
    "                 [1, 0],\n",
    "                 [2, 0],\n",
    "                 [0, 1],\n",
    "                 [1, 1],\n",
    "                 [2, 1],\n",
    "                 [0, 2],\n",
    "                 [1, 2],\n",
    "                 [2, 2],\n",
    "                 [0, 3],\n",
    "                 [1, 3],\n",
    "                 [2, 3]])\n",
    "np.where((vals == (0, 1)).all(axis=1))\n"
   ]
  }
 ],
 "metadata": {
  "kernelspec": {
   "display_name": "Python 3",
   "language": "python",
   "name": "python3"
  },
  "language_info": {
   "codemirror_mode": {
    "name": "ipython",
    "version": 3
   },
   "file_extension": ".py",
   "mimetype": "text/x-python",
   "name": "python",
   "nbconvert_exporter": "python",
   "pygments_lexer": "ipython3",
   "version": "3.6.7"
  },
  "varInspector": {
   "cols": {
    "lenName": 16,
    "lenType": 16,
    "lenVar": 40
   },
   "kernels_config": {
    "python": {
     "delete_cmd_postfix": "",
     "delete_cmd_prefix": "del ",
     "library": "var_list.py",
     "varRefreshCmd": "print(var_dic_list())"
    },
    "r": {
     "delete_cmd_postfix": ") ",
     "delete_cmd_prefix": "rm(",
     "library": "var_list.r",
     "varRefreshCmd": "cat(var_dic_list()) "
    }
   },
   "types_to_exclude": [
    "module",
    "function",
    "builtin_function_or_method",
    "instance",
    "_Feature"
   ],
   "window_display": false
  }
 },
 "nbformat": 4,
 "nbformat_minor": 2
}
