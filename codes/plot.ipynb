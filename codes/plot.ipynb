{
 "cells": [
  {
   "cell_type": "code",
   "execution_count": 2,
   "metadata": {
    "ExecuteTime": {
     "end_time": "2018-12-06T06:47:22.205527Z",
     "start_time": "2018-12-06T06:47:21.486786Z"
    }
   },
   "outputs": [],
   "source": [
    "from sketch import *\n",
    "import matplotlib.pyplot as plt \n",
    "import numpy as np"
   ]
  },
  {
   "cell_type": "code",
   "execution_count": null,
   "metadata": {
    "ExecuteTime": {
     "end_time": "2018-12-06T03:48:13.121577Z",
     "start_time": "2018-12-06T03:48:13.114578Z"
    }
   },
   "outputs": [],
   "source": [
    "data = np.load(\"../data/Caltech101_medium.npy\")"
   ]
  },
  {
   "cell_type": "markdown",
   "metadata": {},
   "source": [
    "## Find good window size"
   ]
  },
  {
   "cell_type": "code",
   "execution_count": null,
   "metadata": {
    "ExecuteTime": {
     "end_time": "2018-12-06T03:49:20.487482Z",
     "start_time": "2018-12-06T03:49:12.722439Z"
    },
    "scrolled": true
   },
   "outputs": [],
   "source": [
    "window_sizes = np.arange(40,160,20)\n",
    "sketch_methods = ['symmetric', 'asymmetric']\n",
    "query_points = data[:100,:]\n",
    "\n",
    "recall_accuracy = {}\n",
    "for sketch_method in sketch_methods:\n",
    "    recall_accuracy[sketch_method] = []\n",
    "    \n",
    "for window_size in window_sizes:\n",
    "    neigh = SketchKNN(n_neighbors=100, sketch_size=40, strip_window=window_size, \n",
    "                      candidates_scale=20)\n",
    "    neigh.fit(data)\n",
    "    trueIndex = neigh.kneighbors(query_points)\n",
    "    for sketch_method in sketch_methods:\n",
    "        accuracies = []\n",
    "        result = neigh.kneighbors(query_points, sketch_method = sketch_method)\n",
    "        for a,b in zip(result,trueIndex):\n",
    "            matches = [1 if elma==elmb else 0 for elma, elmb in zip(a, b)]\n",
    "            accuracies.append(sum(matches)/len(matches))\n",
    "        recall_accuracy[sketch_method].append(sum(accuracies)/len(accuracies))\n",
    "\n",
    "for sketch_method in sketch_methods:\n",
    "    print(\"recall_accuracy[sketch_method]: \",sketch_method,recall_accuracy[sketch_method])\n",
    "    plt.plot(window_sizes, recall_accuracy[sketch_method], label = sketch_method)\n",
    "\n",
    "# naming the x axis\n",
    "plt.xlabel('window_sizes')\n",
    "# naming the y axis\n",
    "plt.ylabel('recall accuracy')\n",
    "# show a legend on the plot \n",
    "plt.legend()\n",
    "# function to show the plot \n",
    "plt.show()"
   ]
  },
  {
   "cell_type": "markdown",
   "metadata": {},
   "source": [
    "We choose 100 as window size."
   ]
  },
  {
   "cell_type": "code",
   "execution_count": null,
   "metadata": {
    "ExecuteTime": {
     "end_time": "2018-12-06T03:48:50.196212Z",
     "start_time": "2018-12-06T03:48:48.856144Z"
    }
   },
   "outputs": [],
   "source": [
    "sketch_sizes = np.arange(20, 120, 20)\n",
    "sketch_methods = ['symmetric', 'asymmetric', 'g_asymmetric', 'PCA']\n",
    "query_points = data[:100,:]\n",
    "\n",
    "recall_accuracy = {}\n",
    "for sketch_method in sketch_methods:\n",
    "    recall_accuracy[sketch_method] = []\n",
    "    \n",
    "for sketch_size in sketch_sizes:\n",
    "    neigh = SketchKNN(n_neighbors=100, sketch_size=sketch_size, strip_window=100, \n",
    "                      candidates_scale=20)\n",
    "    neigh.fit(data)\n",
    "    trueIndex = neigh.kneighbors(query_points)\n",
    "    for sketch_method in sketch_methods:\n",
    "        accuracies = []\n",
    "        result = neigh.kneighbors(query_points, sketch_method = sketch_method)\n",
    "        for a,b in zip(result,trueIndex):\n",
    "            matches = [1 if elma==elmb else 0 for elma, elmb in zip(a, b)]\n",
    "            accuracies.append(sum(matches)/len(matches))\n",
    "        recall_accuracy[sketch_method].append(sum(accuracies)/len(accuracies))\n",
    "\n",
    "for sketch_method in sketch_methods:\n",
    "    print(\"recall_accuracy[sketch_method]: \",sketch_method,recall_accuracy[sketch_method])\n",
    "    plt.plot(sketch_sizes, recall_accuracy[sketch_method], label = sketch_method)\n",
    "        \n",
    "# naming the x axis \n",
    "plt.xlabel('sketch_sizes') \n",
    "# naming the y axis \n",
    "plt.ylabel('recall accuracy')\n",
    "# show a legend on the plot\n",
    "plt.legend()   \n",
    "# function to show the plot \n",
    "plt.show() "
   ]
  },
  {
   "cell_type": "code",
   "execution_count": 1,
   "metadata": {
    "ExecuteTime": {
     "end_time": "2018-12-06T06:47:07.312145Z",
     "start_time": "2018-12-06T06:47:07.239153Z"
    }
   },
   "outputs": [
    {
     "ename": "NameError",
     "evalue": "name 'SketchKNN' is not defined",
     "output_type": "error",
     "traceback": [
      "\u001b[1;31m---------------------------------------------------------------------------\u001b[0m",
      "\u001b[1;31mNameError\u001b[0m                                 Traceback (most recent call last)",
      "\u001b[1;32m<ipython-input-1-b517f52d18ea>\u001b[0m in \u001b[0;36m<module>\u001b[1;34m\u001b[0m\n\u001b[0;32m      8\u001b[0m \u001b[0mend\u001b[0m \u001b[1;33m=\u001b[0m \u001b[0mlen\u001b[0m\u001b[1;33m(\u001b[0m\u001b[0mdomain1\u001b[0m\u001b[1;33m)\u001b[0m\u001b[1;33m\u001b[0m\u001b[1;33m\u001b[0m\u001b[0m\n\u001b[0;32m      9\u001b[0m \u001b[1;32mfor\u001b[0m \u001b[0mi\u001b[0m \u001b[1;32min\u001b[0m \u001b[0mdomain1\u001b[0m\u001b[1;33m:\u001b[0m\u001b[1;33m\u001b[0m\u001b[1;33m\u001b[0m\u001b[0m\n\u001b[1;32m---> 10\u001b[1;33m     \u001b[0mneigh\u001b[0m \u001b[1;33m=\u001b[0m \u001b[0mSketchKNN\u001b[0m\u001b[1;33m(\u001b[0m\u001b[0mn_neighbors\u001b[0m\u001b[1;33m=\u001b[0m\u001b[1;36m100\u001b[0m\u001b[1;33m,\u001b[0m \u001b[0msketch_size\u001b[0m \u001b[1;33m=\u001b[0m \u001b[0mi\u001b[0m\u001b[1;33m,\u001b[0m \u001b[0mstrip_window\u001b[0m \u001b[1;33m=\u001b[0m \u001b[1;36m100\u001b[0m\u001b[1;33m,\u001b[0m \u001b[0mcandidates_scale\u001b[0m \u001b[1;33m=\u001b[0m \u001b[1;36m20\u001b[0m\u001b[1;33m)\u001b[0m\u001b[1;33m\u001b[0m\u001b[1;33m\u001b[0m\u001b[0m\n\u001b[0m\u001b[0;32m     11\u001b[0m     \u001b[0mneigh\u001b[0m\u001b[1;33m.\u001b[0m\u001b[0mfit\u001b[0m\u001b[1;33m(\u001b[0m\u001b[0mdata\u001b[0m\u001b[1;33m)\u001b[0m\u001b[1;33m\u001b[0m\u001b[1;33m\u001b[0m\u001b[0m\n\u001b[0;32m     12\u001b[0m \u001b[1;33m\u001b[0m\u001b[0m\n",
      "\u001b[1;31mNameError\u001b[0m: name 'SketchKNN' is not defined"
     ]
    }
   ],
   "source": [
    "import time\n",
    "n_neighbors = 100\n",
    "domain1 = [20,40,60,80];\n",
    "resultRunningTime1 = []\n",
    "resultRunningTime2 = []\n",
    "resultRunningTime3 = []\n",
    "top = 0;\n",
    "end = len(domain1)\n",
    "for i in domain1:\n",
    "    neigh = SketchKNN(n_neighbors=100, sketch_size = i, strip_window = 100, candidates_scale = 20)\n",
    "    neigh.fit(data)\n",
    "    \n",
    "    start_time = time.time()\n",
    "    result1 = neigh.kneighbors(data[:10,:],n_neighbors = n_neighbors, sketch_method = 'symmetric')\n",
    "    resultRunningTime1.append(time.time() - start_time)\n",
    "    \n",
    "    start_time = time.time()    \n",
    "    result2 = neigh.kneighbors(data[:10,:],n_neighbors = n_neighbors, sketch_method = 'asymmetric')\n",
    "    resultRunningTime2.append(time.time() - start_time)\n",
    "    \n",
    "    start_time = time.time()\n",
    "    result3 = neigh.kneighbors(data[:10,:],n_neighbors = n_neighbors, sketch_method = 'g_asymmetric')\n",
    "    resultRunningTime3.append(time.time() - start_time)\n",
    "         \n",
    "y1 = resultRunningTime1  \n",
    "\n",
    "\n",
    "\n",
    "# line 1 points\n",
    "x1 = domain1\n",
    "\n",
    "# plotting the line 1 points  \n",
    "plt.plot(x1, y1, label = \"symmetric\") \n",
    "\n",
    "y2 = resultRunningTime2  \n",
    "\n",
    "# line 2 points \n",
    "x2 = domain1 \n",
    "# plotting the line 2 points  \n",
    "plt.plot(x2, y2, label = \"asymmetric\") \n",
    "\n",
    "         \n",
    "y3 = resultRunningTime3  \n",
    "\n",
    "# line 2 points \n",
    "x3 = domain1\n",
    "\n",
    "# plotting the line 2 points  \n",
    "plt.plot(x3, y3, label = \"g_asymmetric\")\n",
    "\n",
    "  \n",
    "# naming the x axis \n",
    "plt.xlabel('sketch size') \n",
    "# naming the y axis \n",
    "plt.ylabel('query time') \n",
    "  \n",
    "# show a legend on the plot \n",
    "plt.legend() \n",
    "plt.savefig('time_size.png', dpi=300)\n",
    "# function to show the plot \n",
    "plt.show()"
   ]
  }
 ],
 "metadata": {
  "kernelspec": {
   "display_name": "Python 3",
   "language": "python",
   "name": "python3"
  },
  "language_info": {
   "codemirror_mode": {
    "name": "ipython",
    "version": 3
   },
   "file_extension": ".py",
   "mimetype": "text/x-python",
   "name": "python",
   "nbconvert_exporter": "python",
   "pygments_lexer": "ipython3",
   "version": "3.6.7"
  },
  "varInspector": {
   "cols": {
    "lenName": 16,
    "lenType": 16,
    "lenVar": 40
   },
   "kernels_config": {
    "python": {
     "delete_cmd_postfix": "",
     "delete_cmd_prefix": "del ",
     "library": "var_list.py",
     "varRefreshCmd": "print(var_dic_list())"
    },
    "r": {
     "delete_cmd_postfix": ") ",
     "delete_cmd_prefix": "rm(",
     "library": "var_list.r",
     "varRefreshCmd": "cat(var_dic_list()) "
    }
   },
   "types_to_exclude": [
    "module",
    "function",
    "builtin_function_or_method",
    "instance",
    "_Feature"
   ],
   "window_display": false
  }
 },
 "nbformat": 4,
 "nbformat_minor": 2
}
